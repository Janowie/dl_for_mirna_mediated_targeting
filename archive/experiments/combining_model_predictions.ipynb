{
 "nbformat": 4,
 "nbformat_minor": 0,
 "metadata": {
  "colab": {
   "name": "combining_model_predictions.ipynb",
   "provenance": [],
   "collapsed_sections": []
  },
  "kernelspec": {
   "name": "python3",
   "display_name": "Python 3"
  },
  "language_info": {
   "name": "python"
  }
 },
 "cells": [
  {
   "cell_type": "markdown",
   "source": [
    "# Combining ensemble predictions\n",
    "\n",
    "In this experiment we will try to combine models' predictions by using a RandomForest and LogisticRegression, both implemented in scikit-learn."
   ],
   "metadata": {
    "id": "YMddTwkvoT5Z",
    "pycharm": {
     "name": "#%% md\n"
    }
   }
  },
  {
   "cell_type": "code",
   "execution_count": null,
   "metadata": {
    "id": "ML0J23M9v89j",
    "pycharm": {
     "name": "#%%\n"
    }
   },
   "outputs": [],
   "source": [
    "import pandas as pd\n",
    "import numpy as np\n",
    "import matplotlib.pyplot as plt\n"
   ]
  },
  {
   "cell_type": "code",
   "source": [
    "df_100 = pd.read_csv(\"preds_100.csv\")\n",
    "df_100"
   ],
   "metadata": {
    "colab": {
     "base_uri": "https://localhost:8080/",
     "height": 424
    },
    "id": "WEUkcmH8wGzN",
    "outputId": "ad48e5df-2c98-453f-dfbd-5a813209878b",
    "pycharm": {
     "name": "#%%\n"
    }
   },
   "execution_count": null,
   "outputs": [
    {
     "output_type": "execute_result",
     "data": {
      "text/plain": [
       "        labels  resnet_small_0  resnet_small_1  resnet_small_2  \\\n",
       "0            0        0.053425        0.054599        0.048366   \n",
       "1            0        0.057921        0.049336        0.055994   \n",
       "2            0        0.070490        0.052635        0.054429   \n",
       "3            0        0.052108        0.050118        0.052836   \n",
       "4            0        0.068706        0.086846        0.078086   \n",
       "...        ...             ...             ...             ...   \n",
       "100995       0        0.096703        0.102163        0.072412   \n",
       "100996       0        0.055103        0.051565        0.049049   \n",
       "100997       0        0.057398        0.050548        0.048314   \n",
       "100998       0        0.053418        0.052081        0.046642   \n",
       "100999       0        0.059778        0.054732        0.087519   \n",
       "\n",
       "        resnet_small_3  resnet_small_4  resnet_small_5  \n",
       "0             0.046307        0.052097        0.047063  \n",
       "1             0.054162        0.056478        0.051250  \n",
       "2             0.069350        0.072273        0.061029  \n",
       "3             0.047540        0.048756        0.048249  \n",
       "4             0.061588        0.086300        0.071561  \n",
       "...                ...             ...             ...  \n",
       "100995        0.102304        0.075896        0.082018  \n",
       "100996        0.045933        0.054050        0.048064  \n",
       "100997        0.050269        0.052075        0.053577  \n",
       "100998        0.051192        0.053075        0.051880  \n",
       "100999        0.068094        0.085086        0.084807  \n",
       "\n",
       "[101000 rows x 7 columns]"
      ],
      "text/html": [
       "<div>\n",
       "<style scoped>\n",
       "    .dataframe tbody tr th:only-of-type {\n",
       "        vertical-align: middle;\n",
       "    }\n",
       "\n",
       "    .dataframe tbody tr th {\n",
       "        vertical-align: top;\n",
       "    }\n",
       "\n",
       "    .dataframe thead th {\n",
       "        text-align: right;\n",
       "    }\n",
       "</style>\n",
       "<table border=\"1\" class=\"dataframe\">\n",
       "  <thead>\n",
       "    <tr style=\"text-align: right;\">\n",
       "      <th></th>\n",
       "      <th>labels</th>\n",
       "      <th>resnet_small_0</th>\n",
       "      <th>resnet_small_1</th>\n",
       "      <th>resnet_small_2</th>\n",
       "      <th>resnet_small_3</th>\n",
       "      <th>resnet_small_4</th>\n",
       "      <th>resnet_small_5</th>\n",
       "    </tr>\n",
       "  </thead>\n",
       "  <tbody>\n",
       "    <tr>\n",
       "      <th>0</th>\n",
       "      <td>0</td>\n",
       "      <td>0.053425</td>\n",
       "      <td>0.054599</td>\n",
       "      <td>0.048366</td>\n",
       "      <td>0.046307</td>\n",
       "      <td>0.052097</td>\n",
       "      <td>0.047063</td>\n",
       "    </tr>\n",
       "    <tr>\n",
       "      <th>1</th>\n",
       "      <td>0</td>\n",
       "      <td>0.057921</td>\n",
       "      <td>0.049336</td>\n",
       "      <td>0.055994</td>\n",
       "      <td>0.054162</td>\n",
       "      <td>0.056478</td>\n",
       "      <td>0.051250</td>\n",
       "    </tr>\n",
       "    <tr>\n",
       "      <th>2</th>\n",
       "      <td>0</td>\n",
       "      <td>0.070490</td>\n",
       "      <td>0.052635</td>\n",
       "      <td>0.054429</td>\n",
       "      <td>0.069350</td>\n",
       "      <td>0.072273</td>\n",
       "      <td>0.061029</td>\n",
       "    </tr>\n",
       "    <tr>\n",
       "      <th>3</th>\n",
       "      <td>0</td>\n",
       "      <td>0.052108</td>\n",
       "      <td>0.050118</td>\n",
       "      <td>0.052836</td>\n",
       "      <td>0.047540</td>\n",
       "      <td>0.048756</td>\n",
       "      <td>0.048249</td>\n",
       "    </tr>\n",
       "    <tr>\n",
       "      <th>4</th>\n",
       "      <td>0</td>\n",
       "      <td>0.068706</td>\n",
       "      <td>0.086846</td>\n",
       "      <td>0.078086</td>\n",
       "      <td>0.061588</td>\n",
       "      <td>0.086300</td>\n",
       "      <td>0.071561</td>\n",
       "    </tr>\n",
       "    <tr>\n",
       "      <th>...</th>\n",
       "      <td>...</td>\n",
       "      <td>...</td>\n",
       "      <td>...</td>\n",
       "      <td>...</td>\n",
       "      <td>...</td>\n",
       "      <td>...</td>\n",
       "      <td>...</td>\n",
       "    </tr>\n",
       "    <tr>\n",
       "      <th>100995</th>\n",
       "      <td>0</td>\n",
       "      <td>0.096703</td>\n",
       "      <td>0.102163</td>\n",
       "      <td>0.072412</td>\n",
       "      <td>0.102304</td>\n",
       "      <td>0.075896</td>\n",
       "      <td>0.082018</td>\n",
       "    </tr>\n",
       "    <tr>\n",
       "      <th>100996</th>\n",
       "      <td>0</td>\n",
       "      <td>0.055103</td>\n",
       "      <td>0.051565</td>\n",
       "      <td>0.049049</td>\n",
       "      <td>0.045933</td>\n",
       "      <td>0.054050</td>\n",
       "      <td>0.048064</td>\n",
       "    </tr>\n",
       "    <tr>\n",
       "      <th>100997</th>\n",
       "      <td>0</td>\n",
       "      <td>0.057398</td>\n",
       "      <td>0.050548</td>\n",
       "      <td>0.048314</td>\n",
       "      <td>0.050269</td>\n",
       "      <td>0.052075</td>\n",
       "      <td>0.053577</td>\n",
       "    </tr>\n",
       "    <tr>\n",
       "      <th>100998</th>\n",
       "      <td>0</td>\n",
       "      <td>0.053418</td>\n",
       "      <td>0.052081</td>\n",
       "      <td>0.046642</td>\n",
       "      <td>0.051192</td>\n",
       "      <td>0.053075</td>\n",
       "      <td>0.051880</td>\n",
       "    </tr>\n",
       "    <tr>\n",
       "      <th>100999</th>\n",
       "      <td>0</td>\n",
       "      <td>0.059778</td>\n",
       "      <td>0.054732</td>\n",
       "      <td>0.087519</td>\n",
       "      <td>0.068094</td>\n",
       "      <td>0.085086</td>\n",
       "      <td>0.084807</td>\n",
       "    </tr>\n",
       "  </tbody>\n",
       "</table>\n",
       "<p>101000 rows × 7 columns</p>\n",
       "</div>"
      ]
     },
     "metadata": {},
     "execution_count": 2
    }
   ]
  },
  {
   "cell_type": "code",
   "source": [
    "df_eval = pd.concat([\n",
    "  df_100[df_100['labels'] == 0].sample(frac=0.2),\n",
    "  df_100[df_100['labels'] == 1].sample(frac=0.2)\n",
    "])\n",
    "\n",
    "df_train = df_100.drop(df_eval.index)\n",
    "\n",
    "print(df_eval['labels'].value_counts())\n",
    "print(df_train['labels'].value_counts())"
   ],
   "metadata": {
    "colab": {
     "base_uri": "https://localhost:8080/"
    },
    "id": "2ufkz9_ywkL3",
    "outputId": "9fd4c2a8-4b63-4e63-8d66-986793f9c34d",
    "pycharm": {
     "name": "#%%\n"
    }
   },
   "execution_count": null,
   "outputs": [
    {
     "output_type": "stream",
     "name": "stdout",
     "text": [
      "0    20000\n",
      "1      200\n",
      "Name: labels, dtype: int64\n",
      "0    80000\n",
      "1      800\n",
      "Name: labels, dtype: int64\n"
     ]
    }
   ]
  },
  {
   "cell_type": "code",
   "source": [
    "df_train[[f\"resnet_small_{i}\" for i in range(6)]]"
   ],
   "metadata": {
    "colab": {
     "base_uri": "https://localhost:8080/",
     "height": 424
    },
    "id": "pHsQ9rAjxwbZ",
    "outputId": "9db115cd-0e08-4f20-be8f-25fe8dfe06df",
    "pycharm": {
     "name": "#%%\n"
    }
   },
   "execution_count": null,
   "outputs": [
    {
     "output_type": "execute_result",
     "data": {
      "text/plain": [
       "        resnet_small_0  resnet_small_1  resnet_small_2  resnet_small_3  \\\n",
       "0             0.053425        0.054599        0.048366        0.046307   \n",
       "1             0.057921        0.049336        0.055994        0.054162   \n",
       "2             0.070490        0.052635        0.054429        0.069350   \n",
       "3             0.052108        0.050118        0.052836        0.047540   \n",
       "4             0.068706        0.086846        0.078086        0.061588   \n",
       "...                ...             ...             ...             ...   \n",
       "100994        0.063638        0.049874        0.053227        0.075664   \n",
       "100996        0.055103        0.051565        0.049049        0.045933   \n",
       "100997        0.057398        0.050548        0.048314        0.050269   \n",
       "100998        0.053418        0.052081        0.046642        0.051192   \n",
       "100999        0.059778        0.054732        0.087519        0.068094   \n",
       "\n",
       "        resnet_small_4  resnet_small_5  \n",
       "0             0.052097        0.047063  \n",
       "1             0.056478        0.051250  \n",
       "2             0.072273        0.061029  \n",
       "3             0.048756        0.048249  \n",
       "4             0.086300        0.071561  \n",
       "...                ...             ...  \n",
       "100994        0.054006        0.066138  \n",
       "100996        0.054050        0.048064  \n",
       "100997        0.052075        0.053577  \n",
       "100998        0.053075        0.051880  \n",
       "100999        0.085086        0.084807  \n",
       "\n",
       "[80800 rows x 6 columns]"
      ],
      "text/html": [
       "<div>\n",
       "<style scoped>\n",
       "    .dataframe tbody tr th:only-of-type {\n",
       "        vertical-align: middle;\n",
       "    }\n",
       "\n",
       "    .dataframe tbody tr th {\n",
       "        vertical-align: top;\n",
       "    }\n",
       "\n",
       "    .dataframe thead th {\n",
       "        text-align: right;\n",
       "    }\n",
       "</style>\n",
       "<table border=\"1\" class=\"dataframe\">\n",
       "  <thead>\n",
       "    <tr style=\"text-align: right;\">\n",
       "      <th></th>\n",
       "      <th>resnet_small_0</th>\n",
       "      <th>resnet_small_1</th>\n",
       "      <th>resnet_small_2</th>\n",
       "      <th>resnet_small_3</th>\n",
       "      <th>resnet_small_4</th>\n",
       "      <th>resnet_small_5</th>\n",
       "    </tr>\n",
       "  </thead>\n",
       "  <tbody>\n",
       "    <tr>\n",
       "      <th>0</th>\n",
       "      <td>0.053425</td>\n",
       "      <td>0.054599</td>\n",
       "      <td>0.048366</td>\n",
       "      <td>0.046307</td>\n",
       "      <td>0.052097</td>\n",
       "      <td>0.047063</td>\n",
       "    </tr>\n",
       "    <tr>\n",
       "      <th>1</th>\n",
       "      <td>0.057921</td>\n",
       "      <td>0.049336</td>\n",
       "      <td>0.055994</td>\n",
       "      <td>0.054162</td>\n",
       "      <td>0.056478</td>\n",
       "      <td>0.051250</td>\n",
       "    </tr>\n",
       "    <tr>\n",
       "      <th>2</th>\n",
       "      <td>0.070490</td>\n",
       "      <td>0.052635</td>\n",
       "      <td>0.054429</td>\n",
       "      <td>0.069350</td>\n",
       "      <td>0.072273</td>\n",
       "      <td>0.061029</td>\n",
       "    </tr>\n",
       "    <tr>\n",
       "      <th>3</th>\n",
       "      <td>0.052108</td>\n",
       "      <td>0.050118</td>\n",
       "      <td>0.052836</td>\n",
       "      <td>0.047540</td>\n",
       "      <td>0.048756</td>\n",
       "      <td>0.048249</td>\n",
       "    </tr>\n",
       "    <tr>\n",
       "      <th>4</th>\n",
       "      <td>0.068706</td>\n",
       "      <td>0.086846</td>\n",
       "      <td>0.078086</td>\n",
       "      <td>0.061588</td>\n",
       "      <td>0.086300</td>\n",
       "      <td>0.071561</td>\n",
       "    </tr>\n",
       "    <tr>\n",
       "      <th>...</th>\n",
       "      <td>...</td>\n",
       "      <td>...</td>\n",
       "      <td>...</td>\n",
       "      <td>...</td>\n",
       "      <td>...</td>\n",
       "      <td>...</td>\n",
       "    </tr>\n",
       "    <tr>\n",
       "      <th>100994</th>\n",
       "      <td>0.063638</td>\n",
       "      <td>0.049874</td>\n",
       "      <td>0.053227</td>\n",
       "      <td>0.075664</td>\n",
       "      <td>0.054006</td>\n",
       "      <td>0.066138</td>\n",
       "    </tr>\n",
       "    <tr>\n",
       "      <th>100996</th>\n",
       "      <td>0.055103</td>\n",
       "      <td>0.051565</td>\n",
       "      <td>0.049049</td>\n",
       "      <td>0.045933</td>\n",
       "      <td>0.054050</td>\n",
       "      <td>0.048064</td>\n",
       "    </tr>\n",
       "    <tr>\n",
       "      <th>100997</th>\n",
       "      <td>0.057398</td>\n",
       "      <td>0.050548</td>\n",
       "      <td>0.048314</td>\n",
       "      <td>0.050269</td>\n",
       "      <td>0.052075</td>\n",
       "      <td>0.053577</td>\n",
       "    </tr>\n",
       "    <tr>\n",
       "      <th>100998</th>\n",
       "      <td>0.053418</td>\n",
       "      <td>0.052081</td>\n",
       "      <td>0.046642</td>\n",
       "      <td>0.051192</td>\n",
       "      <td>0.053075</td>\n",
       "      <td>0.051880</td>\n",
       "    </tr>\n",
       "    <tr>\n",
       "      <th>100999</th>\n",
       "      <td>0.059778</td>\n",
       "      <td>0.054732</td>\n",
       "      <td>0.087519</td>\n",
       "      <td>0.068094</td>\n",
       "      <td>0.085086</td>\n",
       "      <td>0.084807</td>\n",
       "    </tr>\n",
       "  </tbody>\n",
       "</table>\n",
       "<p>80800 rows × 6 columns</p>\n",
       "</div>"
      ]
     },
     "metadata": {},
     "execution_count": 6
    }
   ]
  },
  {
   "cell_type": "code",
   "source": [
    "from sklearn.metrics import (precision_recall_curve, PrecisionRecallDisplay, precision_score, recall_score)"
   ],
   "metadata": {
    "id": "8ayOmKWQzm-a",
    "pycharm": {
     "name": "#%%\n"
    }
   },
   "execution_count": null,
   "outputs": []
  },
  {
   "cell_type": "code",
   "source": [
    "from sklearn.ensemble import RandomForestClassifier\n",
    "\n",
    "clf = RandomForestClassifier(max_depth=10, random_state=0)\n",
    "clf.fit(df_train[[f\"resnet_small_{i}\" for i in range(6)]], df_train['labels'])\n",
    "\n",
    "preds = clf.predict(df_eval[[f\"resnet_small_{i}\" for i in range(6)]])\n",
    "\n",
    "print(precision_score(df_eval['labels'], preds))\n",
    "print(recall_score(df_eval['labels'], preds))"
   ],
   "metadata": {
    "colab": {
     "base_uri": "https://localhost:8080/"
    },
    "id": "pKv7FQIywQD2",
    "outputId": "c2b79d42-e9be-42d9-cd26-e13a7dfc2a68",
    "pycharm": {
     "name": "#%%\n"
    }
   },
   "execution_count": null,
   "outputs": [
    {
     "output_type": "execute_result",
     "data": {
      "text/plain": [
       "RandomForestClassifier(max_depth=10, random_state=0)"
      ]
     },
     "metadata": {},
     "execution_count": 7
    }
   ]
  },
  {
   "cell_type": "code",
   "source": [
    "df_train[[f\"resnet_small_{i}\" for i in range(6)]].to_numpy().shape"
   ],
   "metadata": {
    "colab": {
     "base_uri": "https://localhost:8080/"
    },
    "id": "krbsT_d-yiJ0",
    "outputId": "2de513c8-e48e-4c4f-8145-1ae3952b9f51",
    "pycharm": {
     "name": "#%%\n"
    }
   },
   "execution_count": null,
   "outputs": [
    {
     "output_type": "execute_result",
     "data": {
      "text/plain": [
       "(80800, 6)"
      ]
     },
     "metadata": {},
     "execution_count": 21
    }
   ]
  },
  {
   "cell_type": "code",
   "source": [
    "df_train['labels'].to_numpy().shape"
   ],
   "metadata": {
    "colab": {
     "base_uri": "https://localhost:8080/"
    },
    "id": "4hjRxQ2g0Sfn",
    "outputId": "05288699-e16d-4e62-db6b-6f7f59ba617a",
    "pycharm": {
     "name": "#%%\n"
    }
   },
   "execution_count": null,
   "outputs": [
    {
     "output_type": "execute_result",
     "data": {
      "text/plain": [
       "(80800,)"
      ]
     },
     "metadata": {},
     "execution_count": 24
    }
   ]
  },
  {
   "cell_type": "code",
   "source": [
    "from sklearn.linear_model import LogisticRegression\n",
    "\n",
    "clf = LogisticRegression()\n",
    "clf.fit(df_train[[f\"resnet_small_{i}\" for i in range(6)]].to_numpy(), df_train['labels'].to_numpy())"
   ],
   "metadata": {
    "colab": {
     "base_uri": "https://localhost:8080/"
    },
    "id": "w2vpEEfWzd3b",
    "outputId": "b95a2abc-db2c-43d1-d1a5-c88a05f9d5a0",
    "pycharm": {
     "name": "#%%\n"
    }
   },
   "execution_count": null,
   "outputs": [
    {
     "output_type": "execute_result",
     "data": {
      "text/plain": [
       "LogisticRegression()"
      ]
     },
     "metadata": {},
     "execution_count": 25
    }
   ]
  },
  {
   "cell_type": "code",
   "source": [
    "preds = clf.predict_proba(df_eval[[f\"resnet_small_{i}\" for i in range(6)]].to_numpy())"
   ],
   "metadata": {
    "id": "mvkS94ty0a4g",
    "pycharm": {
     "name": "#%%\n"
    }
   },
   "execution_count": null,
   "outputs": []
  },
  {
   "cell_type": "code",
   "source": [
    "PrecisionRecallDisplay.from_predictions(df_eval['labels'].to_numpy(), preds[:,0])\n",
    "plt.show()"
   ],
   "metadata": {
    "colab": {
     "base_uri": "https://localhost:8080/",
     "height": 279
    },
    "id": "qk9n9ZhF0YeM",
    "outputId": "bb460364-dbb8-4c64-9db5-2a874964386e",
    "pycharm": {
     "name": "#%%\n"
    }
   },
   "execution_count": null,
   "outputs": [
    {
     "output_type": "display_data",
     "data": {
      "text/plain": [
       "<Figure size 432x288 with 1 Axes>"
      ],
      "image/png": "[encoded data removed]"
     },
     "metadata": {
      "needs_background": "light"
     }
    }
   ]
  }
 ]
}